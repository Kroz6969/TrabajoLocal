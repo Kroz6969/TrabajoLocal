{
 "cells": [
  {
   "cell_type": "markdown",
   "metadata": {},
   "source": [
    "<h1 align=\"center\">Física Computacional.</h1>\n",
    "<h1 align=\"center\">Semestre 2014-1</h1>\n",
    "\n",
    "<h2>Sergio A. Alcalá Corona </h2> \n",
    "\n",
    "---\n",
    "### Daniel Rojo Mata\n",
    "### Rodrigo Vega Vilchis\n",
    "---"
   ]
  },
  {
   "cell_type": "markdown",
   "metadata": {},
   "source": [
    "<h1 align=\"center\">Programación para la física computacional</h1> \n",
    "\n",
    "## Práctica 1.  Programación para la física computacional\n",
    "\n",
    "\n",
    "### Programación básica para la física\n",
    "\n",
    "---"
   ]
  },
  {
   "cell_type": "markdown",
   "metadata": {},
   "source": [
    "### EJERCICIOS:"
   ]
  },
  {
   "cell_type": "markdown",
   "metadata": {},
   "source": [
    "**1. Caida de una pelota desde una torre:** Se deja caer una pelota desde una torre de altura $h$. Tiene velocidad inicial cero y acelera hacia abajo con la gravedad.\n",
    "\n",
    "Escribe un programa que le pida al usuario que ingrese la altura en metros de la torre y luego calcule e imprima el tiempo en segundos hasta que la pelota toque el suelo (ignora la resistencia del aire). \n",
    "    \n",
    "Después, usa tu programa para calcular el tiempo de una pelota lanzada desde una torre de $100m$ de altura."
   ]
  },
  {
   "cell_type": "markdown",
   "metadata": {},
   "source": [
    "De la ecuación para la caida libre: $y=y_0 + v_0t + \\frac{gt^2}{2}$ recuperamos la siguiente expresión.\n",
    "$t=\\sqrt{\\frac{2y}{g}}$"
   ]
  },
  {
   "cell_type": "code",
   "execution_count": 1,
   "metadata": {},
   "outputs": [
    {
     "data": {
      "text/plain": [
       "4.515236409857309"
      ]
     },
     "execution_count": 1,
     "metadata": {},
     "output_type": "execute_result"
    }
   ],
   "source": [
    "def tiempo(h):\n",
    "  return ((2*h)/9.81)**(1/2)\n",
    "tiempo(100)"
   ]
  },
  {
   "cell_type": "markdown",
   "metadata": {},
   "source": []
  },
  {
   "cell_type": "markdown",
   "metadata": {},
   "source": [
    "**2. Altitud de un satélite**: se va a lanzar un satélite en una órbita circular alrededor de la Tierra de modo que orbite el planeta una vez cada $T$ segundos. "
   ]
  },
  {
   "cell_type": "markdown",
   "metadata": {},
   "source": [
    "(a) Demuestre que la altitud $h$ sobre la superficie de la Tierra que debe tener el satélite es:\n",
    "\n",
    "<h3 align=\"center\">$h = \\biggl( {GMT^2\\over4\\pi^2} \\biggr)^{1/3} - R$,</h3> \n",
    "\n",
    "donde $G=6.67\\times10^{-11}\\,\\textrm{m}^3\\,\\textrm{kg}^{-1}\\,\\textrm{s}^{-2}$ es la constante gravitatoria de Newton, $M=5.97\\times10^{24}\\,$kg es la masa de la Tierra y $R=6371\\,$km  es su radio.\n",
    "\n"
   ]
  },
  {
   "cell_type": "markdown",
   "metadata": {},
   "source": [
    "R:\n",
    "Por un lado tenemos la formulación para la aceleración centripeta:  $a\\omega^2$ donde $\\omega = \\frac{2\\pi}{T}$ e igualamos con la fuerza gravitacional dando como resultado $\\frac{GMm}{a^2} = \\frac{4\\pi^2 ma}{T^2}$, de aquí en adelante solo despejamos convenientemente y cabe resaltar que \"a\" es la suma del radio de la tierra más la altura en orbita en que se encuentra este satélite, dando como resultado lo que se pide; no realizaré a detalle las manipulaciones algebraicas para no ocupar más espacio en el notebook"
   ]
  },
  {
   "cell_type": "markdown",
   "metadata": {},
   "source": [
    "(b) Escribe un programa que le pida al usuario que ingrese el valor deseado de $T$ y luego calcula e imprima la altitud correcta en metros."
   ]
  },
  {
   "cell_type": "code",
   "execution_count": 2,
   "metadata": {},
   "outputs": [],
   "source": [
    "#Para pasar de minutos a segundos\n",
    "def segundos(s):\n",
    "    return s*60"
   ]
  },
  {
   "cell_type": "code",
   "execution_count": 3,
   "metadata": {},
   "outputs": [],
   "source": [
    "import numpy as np\n",
    "Pi = np.pi\n",
    "G = 6.67E-11\n",
    "M = 5.97E24\n",
    "R = 6371\n",
    "def altitud(T):\n",
    "  return (((G*M*T**2)/(4*Pi**2))**(1/3) - R)"
   ]
  },
  {
   "cell_type": "markdown",
   "metadata": {},
   "source": [
    "(c) Utiliza tu programa para calcular las altitudes de los satélites que orbitan la Tierra una vez al día (la llamada órbita *geoestacionaria*), una vez cada **90 minutos** y una vez cada **45 minutos**. ¿Qué concluyes de este último cálculo?"
   ]
  },
  {
   "cell_type": "code",
   "execution_count": 4,
   "metadata": {},
   "outputs": [
    {
     "data": {
      "text/plain": [
       "5400"
      ]
     },
     "execution_count": 4,
     "metadata": {},
     "output_type": "execute_result"
    }
   ],
   "source": [
    "segundos(90)\n"
   ]
  },
  {
   "cell_type": "code",
   "execution_count": 5,
   "metadata": {},
   "outputs": [
    {
     "data": {
      "text/plain": [
       "6643950.625372861"
      ]
     },
     "execution_count": 5,
     "metadata": {},
     "output_type": "execute_result"
    }
   ],
   "source": [
    "altitud(5400)"
   ]
  },
  {
   "cell_type": "code",
   "execution_count": 6,
   "metadata": {},
   "outputs": [
    {
     "data": {
      "text/plain": [
       "2700"
      ]
     },
     "execution_count": 6,
     "metadata": {},
     "output_type": "execute_result"
    }
   ],
   "source": [
    "segundos(45)"
   ]
  },
  {
   "cell_type": "code",
   "execution_count": 7,
   "metadata": {},
   "outputs": [
    {
     "data": {
      "text/plain": [
       "4183069.1021891767"
      ]
     },
     "execution_count": 7,
     "metadata": {},
     "output_type": "execute_result"
    }
   ],
   "source": [
    "altitud(2700)"
   ]
  },
  {
   "cell_type": "markdown",
   "metadata": {},
   "source": [
    "Entre más cerca se este, menos tiempo se requiere para dar una vuelta, es decir, la velocidad en orbita es mayor."
   ]
  },
  {
   "cell_type": "markdown",
   "metadata": {},
   "source": [
    "**3. Relatividad especial:** Una nave espacial viaja desde la Tierra en línea recta a una velocidad relativista $v$ a otro planeta a $x$ años luz de distancia. \n",
    " \n",
    " Escribe un programa que le pida al usuario el valor de $x$ y la velocidad $v$ como una fracción de la velocidad de la luz $c$, y que imprima el tiempo en años que tarda la nave espacial en llegar a su destino"
   ]
  },
  {
   "cell_type": "markdown",
   "metadata": {},
   "source": [
    "a) en el marco de reposo de un observador en la Tierra y"
   ]
  },
  {
   "cell_type": "markdown",
   "metadata": {},
   "source": [
    "Considerando las transformaciones de Lotentz\n",
    "<h3 align=\"center\">$\\Delta \\tau = \\sqrt{1-\\frac{v^2}{c^2}} \\Delta t$</h3>\n",
    "Nosotros debemos calcular el tiempo propio, entonces solo dividimos el factor $\\gamma$ entre $\\Delta\\tau$\n"
   ]
  },
  {
   "cell_type": "markdown",
   "metadata": {},
   "source": [
    "b) como lo percibiría un pasajero a bordo de la nave. "
   ]
  },
  {
   "cell_type": "code",
   "execution_count": 8,
   "metadata": {},
   "outputs": [
    {
     "name": "stdout",
     "output_type": "stream",
     "text": [
      "En terminos de C, ¿Cuál es la velocidad? .99\n",
      "¿Cuál es la distancia en kilometros?150000000\n",
      "El tiempo que mides desde la nave es: 4.455e+16 s\n"
     ]
    }
   ],
   "source": [
    "from fractions import Fraction\n",
    "import math as mt\n",
    "\n",
    "c=3E8\n",
    "v = Fraction(input(\"En terminos de C, ¿Cuál es la velocidad? \"))\n",
    "D = Fraction(input(\"¿Cuál es la distancia en kilometros?\"))\n",
    "V = v*c\n",
    "tau=(D*(V)) #Tau tiempo propio (Desde la nave)\n",
    "print(\"El tiempo que mides desde la nave es:\",tau,\"s\")"
   ]
  },
  {
   "cell_type": "code",
   "execution_count": 9,
   "metadata": {},
   "outputs": [
    {
     "name": "stdout",
     "output_type": "stream",
     "text": [
      "Tiempo medido por otro observador 3.1580657683121344e+17 s\n"
     ]
    }
   ],
   "source": [
    "gamma = mt.sqrt(1-(V/c)**2)\n",
    "t=tau/gamma\n",
    "print(\"Tiempo medido por otro observador\",t,\"s\")"
   ]
  },
  {
   "cell_type": "markdown",
   "metadata": {},
   "source": [
    "c) Usa tu programa para calcular las respuestas para un planeta a 10 años luz de distancia con $v = 0.99c$"
   ]
  },
  {
   "cell_type": "markdown",
   "metadata": {},
   "source": [
    "10 años luz a km, tendremos 9.16E13"
   ]
  },
  {
   "cell_type": "code",
   "execution_count": 12,
   "metadata": {},
   "outputs": [
    {
     "name": "stdout",
     "output_type": "stream",
     "text": [
      "En terminos de C, ¿Cuál es la velocidad? .99\n",
      "¿Cuál es la distancia en kilometros?9.16E13\n",
      "Tiempo que tarda es 1.9285254958492766e+23 s\n"
     ]
    }
   ],
   "source": [
    "v = Fraction(input(\"En terminos de C, ¿Cuál es la velocidad? \"))\n",
    "D = Fraction(input(\"¿Cuál es la distancia en kilometros?\"))\n",
    "V = v*c\n",
    "tau=(D*(V)) #Tau tiempo propio (Desde la nave)\n",
    "gamma = mt.sqrt(1-(V/c)**2)\n",
    "t=tau/gamma\n",
    "print(\"Tiempo que tarda es\",t,\"s\")"
   ]
  },
  {
   "cell_type": "markdown",
   "metadata": {},
   "source": [
    "**4. Órbitas planetarias:** En el espacio, la órbita de un cuerpo alrededor de otro (como un planeta alrededor del Sol), no necesariamente es circular. En general, toma la forma de una elipse, con el cuerpo a veces más cerca y otras más lejos. Si tenemos la distancia $\\ell_1$ de máxima aproximación de un planeta al Sol (su *perihelio*), y su velocidad lineal $v_1$ en el perihelio, entonces cualquier otra propiedad de la órbita se puede calcular a partir de estas dos cantidades de la siguiente manera:"
   ]
  },
  {
   "cell_type": "markdown",
   "metadata": {},
   "source": [
    "   \n",
    "**a)** La segunda ley de Kepler nos dice que la distancia $\\ell_2$ y la velocidad $v_2$ del planeta en su punto más distante, o *afelio*, satisfacen que $\\ell_2 v_2 = \\ell_1 v_1$.  Al mismo tiempo, la energía total, cinética más la gravitatoria, de un planeta con velocidad $v$ y distancia $r$ del Sol está dada por:\n",
    "\n",
    "<h3 align=\"center\">$E = \\frac{1}{2} m v^2 - G {mM\\over r}$,</h3> \n",
    "        \n",
    "donde $m$ es la masa del planeta, $M=1.9891\\times10^{30}\\,$kg es la masa del Sol y $G=6.6738\\times10^{-11}\\,\\mathrm{m^3\\,kg^{-1}\\,s^{-2}}$ es la constante gravitatoria de Newton. Dado que la energía debe conservarse, demuestre que $v_2$ es la raíz más pequeña de la ecuación cuadrática:\n",
    "\n",
    "<h3 align=\"center\">$v_2^2 - {2GM\\over v_1\\ell_1} v_2 - \\biggl[ v_1^2 - {2GM\\over\\ell_1} \\biggr] = 0$.</h3> \n",
    "\n",
    "Una vez que tenemos $v_2$ podemos calcular $\\ell_2$  usando la relación $\\ell_2 = \\ell_1 v_1/v_2$."
   ]
  },
  {
   "cell_type": "markdown",
   "metadata": {},
   "source": [
    "R: Podemos notar que $ \\ell_1 < \\ell_2$ de la expresión $\\ell_2 v_2 = \\ell_1 v_1$ despejamos $v_2$:\n",
    "<h3 align=\"center\">$v_2= \\frac{\\ell_1}{\\ell_2}v_1 $</h3>\n",
    "Notamos que bajo esta condición $v_2$ tiene que ser la velocidad (o raíz) más chica."
   ]
  },
  {
   "cell_type": "markdown",
   "metadata": {},
   "source": [
    "**b)** Dados los valores de $v_1$, $\\ell_1$, y $\\ell_2$; otros parámetros de la órbita se obtienen mediante fórmulas simples que pueden derivarse de las leyes de Kepler y del hecho de que la órbita es una elipse:\n",
    "\n",
    "<h4 align=\"center\">Semieje mayor: $\\; \\; \\; a = \\frac{1}{2}(\\ell_1+\\ell_2)$,</h4> \n",
    "\n",
    "<h4 align=\"center\">Semieje menor: $\\; \\; \\; b = \\sqrt{\\ell_1\\ell_2}$,</h4> \n",
    "\n",
    "<h4 align=\"center\">Período orbital: $\\; \\; \\; T = {2\\pi ab\\over\\ell_1 v_1}$,</h4> \n",
    "\n",
    "<h4 align=\"center\">Excentricidad orbital: $\\; \\; \\; e = {\\ell_2-\\ell_1\\over\\ell_2+\\ell_1}$.</h4> \n",
    "\n",
    "Escribe un programa que le pida al usuario que ingrese la distancia al Sol y la velocidad en el perihelio; para que calcule e imprima las cantidades:\n",
    "\n",
    "$\\ell_2$, $v_2$, $T$ y $e$."
   ]
  },
  {
   "cell_type": "code",
   "execution_count": 7,
   "metadata": {},
   "outputs": [
    {
     "name": "stdout",
     "output_type": "stream",
     "text": [
      "Ingresa la distancia al sol 150000000\n",
      "Cuál es la velocidad del perihelio? 57000\n",
      "#############################\n",
      "La primera distancia es  150000000\n",
      "La segunda distancia es  150551001.39385796\n",
      "La primer velocidad  57000\n",
      "La segunda velocidad ya fue calculada  56791.3857818339\n",
      "Para a  150275500.69692898\n",
      "Para b  150275248.15843323\n",
      "Para T  16595.463677138374\n",
      "Para e  0.001833304135745981\n"
     ]
    }
   ],
   "source": [
    "from fractions import Fraction\n",
    "import math as mt\n",
    "\n",
    "G=6.67E-11\n",
    "M=1.9891E30\n",
    "l1=Fraction(input(\"Ingresa la distancia al sol \"))\n",
    "v1=Fraction(input(\"Cuál es la velocidad del perihelio? \"))\n",
    "\n",
    "b=(2*G*M)/(v1*l1)\n",
    "c=v1**2-(2*G*M)/l1\n",
    "\n",
    "X1=(-b+mt.sqrt(b**2-4*c))/2\n",
    "X2=(-b-mt.sqrt(b**2-4*c))/2\n",
    "\n",
    "if (X1 < v1) and (X1 > 0):\n",
    "    v2=X1\n",
    "elif (X2 < v1) and (X2 > 0):\n",
    "    v2=X2\n",
    "\n",
    "l2=(l1*v1)/v2\n",
    "a=(1/2)*(l1+l2)\n",
    "bb= mt.sqrt(l1*l2)\n",
    "T=(2*mt.pi*a*bb)/(l1*v1)\n",
    "e=(l2-l1)/(l2+l1)\n",
    "print(\"#############################\")\n",
    "print(\"La primera distancia es \",l1)\n",
    "print(\"La segunda distancia es \",l2)\n",
    "print(\"La primer velocidad \",v1)\n",
    "print(\"La segunda velocidad ya fue calculada \",v2)\n",
    "print(\"Para a \",a)\n",
    "print(\"Para b \",bb)\n",
    "print(\"Para T \",T)\n",
    "print(\"Para e \",e)"
   ]
  },
  {
   "cell_type": "markdown",
   "metadata": {},
   "source": [
    "**c)** Prueba tu programa haciendo que calcule las propiedades de las órbitas de la Tierra (para las cuales $\\ell_1=1.4710\\times10^{11}\\,$m y $v_1=3.0287\\times10^4\\,\\mathrm{m\\,s^{-1}}$)  y del cometa Halley ($\\ell_1=8.7830\\times10^{10}\\,$m y $v_1=5.4529\\times10^4\\,\\mathrm{m\\,s^{-1}}$). Entre otras cosas, deberías encontrar que el período orbital de la Tierra es de un año y el del cometa Halley es de unos 76 años."
   ]
  },
  {
   "cell_type": "code",
   "execution_count": 3,
   "metadata": {},
   "outputs": [
    {
     "name": "stdout",
     "output_type": "stream",
     "text": [
      "La primera distancia es  147100000000.0\n",
      "La segunda distancia es  361275812329.4659\n",
      "La primer velocidad  30287.0\n",
      "La segunda velocidad ya fue calculada  12331.901411481871\n",
      "Para a  254187906164.73294\n",
      "Para b  230529113115.16476\n",
      "Para T  82640245.99100439\n",
      "Para e  0.4212942613222987\n"
     ]
    }
   ],
   "source": [
    "from fractions import Fraction\n",
    "import math as mt\n",
    "\n",
    "G=6.67E-11\n",
    "M=1.9891E30\n",
    "l1=1.4710E11\n",
    "v1=3.0287E4\n",
    "\n",
    "b=(2*G*M)/(v1*l1)\n",
    "c=v1**2-(2*G*M)/l1\n",
    "\n",
    "X1=(-b+mt.sqrt(b**2-4*c))/2\n",
    "X2=(-b-mt.sqrt(b**2-4*c))/2\n",
    "\n",
    "if (X1 < v1) and (X1 > 0):\n",
    "    v2=X1\n",
    "elif (X2 < v1) and (X2 > 0):\n",
    "    v2=X2\n",
    "\n",
    "l2=(l1*v1)/v2\n",
    "a=(1/2)*(l1+l2)\n",
    "bb= mt.sqrt(l1*l2)\n",
    "T=(2*mt.pi*a*bb)/(l1*v1)\n",
    "e=(l2-l1)/(l2+l1)\n",
    "print(\"La primera distancia es \",l1)\n",
    "print(\"La segunda distancia es \",l2)\n",
    "print(\"La primer velocidad \",v1)\n",
    "print(\"La segunda velocidad ya fue calculada \",v2)\n",
    "print(\"Para a \",a)\n",
    "print(\"Para b \",bb)\n",
    "print(\"Para T \",T)\n",
    "print(\"Para e \",e)"
   ]
  },
  {
   "cell_type": "code",
   "execution_count": 4,
   "metadata": {},
   "outputs": [
    {
     "name": "stdout",
     "output_type": "stream",
     "text": [
      "La primera distancia es  87830000000.0\n",
      "La segunda distancia es  5645707989990.801\n",
      "La primer velocidad  54529.0\n",
      "La segunda velocidad ya fue calculada  848.3049563475215\n",
      "Para a  2866768994995.4004\n",
      "Para b  704175072521.6649\n",
      "Para T  2648395237.796898\n",
      "Para e  0.9693627215330822\n"
     ]
    }
   ],
   "source": [
    "from fractions import Fraction\n",
    "import math as mt\n",
    "\n",
    "G=6.67E-11\n",
    "M=1.9891E30\n",
    "l1=8.7830E10\n",
    "v1=5.4529E4\n",
    "\n",
    "b=(2*G*M)/(v1*l1)\n",
    "c=v1**2-(2*G*M)/l1\n",
    "\n",
    "X1=(-b+mt.sqrt(b**2-4*c))/2\n",
    "X2=(-b-mt.sqrt(b**2-4*c))/2\n",
    "\n",
    "if (X1 < v1) and (X1 > 0):\n",
    "    v2=X1\n",
    "elif (X2 < v1) and (X2 > 0):\n",
    "    v2=X2\n",
    "\n",
    "l2=(l1*v1)/v2\n",
    "a=(1/2)*(l1+l2)\n",
    "bb= mt.sqrt(l1*l2)\n",
    "T=(2*mt.pi*a*bb)/(l1*v1)\n",
    "e=(l2-l1)/(l2+l1)\n",
    "print(\"La primera distancia es \",l1)\n",
    "print(\"La segunda distancia es \",l2)\n",
    "print(\"La primer velocidad \",v1)\n",
    "print(\"La segunda velocidad ya fue calculada \",v2)\n",
    "print(\"Para a \",a)\n",
    "print(\"Para b \",bb)\n",
    "print(\"Para T \",T)\n",
    "print(\"Para e \",e)"
   ]
  },
  {
   "cell_type": "markdown",
   "metadata": {},
   "source": [
    "**5. La fórmula semiempírica de la masa (FSM)**\n",
    " \n",
    "En física nuclear, la **fórmula de Weizsäcker** (conocida también como fórmula semiempírica) sirve para evaluar la masa y otras propiedades de un núcleo atómico; y está basada parcialmente en mediciones empíricas. En particular la fórmula se usa para calcular la $\\textit{energía de enlace nuclear aproximada}$ $B$, de un núcleo atómico con número atómico $Z$ y número de masa $A$:\n",
    "\n",
    "<h3 align=\"center\">$B = a_1 A - a_2 A^{2/3} - a_3 {Z^2\\over A^{1/3}} - a_4 {(A - 2Z)^2\\over A} + {a_5\\over A^{1/2}}$,</h3>\n",
    "\n",
    "donde, en unidades de millones de electrón-volts, las constantes son $a_1=15.8$, $a_2=18.3$, $a_3=0.714$, $a_4=23.2$ y          \n",
    "<h6 align=\"center\">\n",
    "$a_5 = \n",
    "  \\left \\{\n",
    "    \\begin{aligned}\n",
    "      0 & \\; \\text{si} \\ A \\; \\text{es impar,} \\\\\n",
    "      12.0 & \\; \\text{si} \\ A \\; \\text{y} \\; Z \\; \\text{son pares (ambos),} \\\\\n",
    "      -12.0 & \\; \\text{si} \\ A \\; \\text{es par y} \\; Z \\; \\text{impar} \n",
    "    \\end{aligned}\n",
    "  \\right.\n",
    "$\n",
    "</h6>"
   ]
  },
  {
   "cell_type": "markdown",
   "metadata": {},
   "source": [
    "**a)** Escribe un programa que tome como entrada los valores de $A$ y $Z$, e imprima la energía de enlace $B$ para el átomo correspondiente. Usa tu programa para encontrar la energía de enlace de un átomo con $A=58$ y $Z=28$ (Hint: La respuesta correcta es alrededor de los $490\\,$MeV)."
   ]
  },
  {
   "cell_type": "code",
   "execution_count": 18,
   "metadata": {},
   "outputs": [
    {
     "name": "stdout",
     "output_type": "stream",
     "text": [
      "Introduce A 58\n",
      "Introduce Z 28\n",
      "A y Z son par  12\n",
      "497.5620206224374\n"
     ]
    }
   ],
   "source": [
    "A=float(input(\"Introduce A \"))\n",
    "Z=float(input(\"Introduce Z \"))\n",
    "a5=0\n",
    "a1=15.8\n",
    "a2=18.3\n",
    "a3=.714\n",
    "a4=23.2\n",
    "\n",
    "if (A%2==1):\n",
    "    a5=0\n",
    "    print(\"A es impar\",a5)\n",
    "elif (A%2==0) & (Z%2==0):\n",
    "    a5=12\n",
    "    print(\"A y Z son par \",a5)\n",
    "elif (A%2==0) & (Z%2==1):\n",
    "    a5=-12\n",
    "    print(\"A es par pero Z es impar\",a5)\n",
    "else:\n",
    "    print(\"llama a dios\")\n",
    "\n",
    "# Separaré por terminos etiquetados de izquiera a derecha como Tn\n",
    "T1= a1*A\n",
    "T2= -a2*A**(2/3)\n",
    "T3= -a3*(Z**2)/(A**(1/3))\n",
    "T4= -a4*(A-2*Z)**2/A\n",
    "T5= a5/(A**(1/2))\n",
    "\n",
    "B=T1+T2+T3+T4+T5\n",
    "print(B)"
   ]
  },
  {
   "cell_type": "markdown",
   "metadata": {},
   "source": [
    "**b)** Modifica el programa del inciso anterior, para escribir una segunda versión que imprima no la energía de enlace total $B$, sino la energía de unión por nucleón, que es $B/A$."
   ]
  },
  {
   "cell_type": "code",
   "execution_count": 10,
   "metadata": {},
   "outputs": [
    {
     "name": "stdout",
     "output_type": "stream",
     "text": [
      "Energía de unión por nucleón  8.578655527973059\n"
     ]
    }
   ],
   "source": [
    "print(\"Energía de unión por nucleón \",B/A)"
   ]
  },
  {
   "cell_type": "markdown",
   "metadata": {},
   "source": [
    "**c)** Escribe una tercera versión del programa para que tome como entrada solo un valor del número atómico $Z$ y luego pase por todos los valores de $A$ desde $A=Z$ hasta $A=3Z$, para encontrar el que tiene la mayor energía de enlace por nucleón . Este es el núcleo más estable con el número atómico dado. Haz que tu programa imprima el valor de $A$ para este núcleo más estable y el valor de la energía de enlace por nucleón."
   ]
  },
  {
   "cell_type": "code",
   "execution_count": 17,
   "metadata": {},
   "outputs": [
    {
     "ename": "IndentationError",
     "evalue": "expected an indented block (2612976685.py, line 11)",
     "output_type": "error",
     "traceback": [
      "\u001b[1;36m  Input \u001b[1;32mIn [17]\u001b[1;36m\u001b[0m\n\u001b[1;33m    a5=0\u001b[0m\n\u001b[1;37m    ^\u001b[0m\n\u001b[1;31mIndentationError\u001b[0m\u001b[1;31m:\u001b[0m expected an indented block\n"
     ]
    }
   ],
   "source": [
    "Z=int(input(\"Dame Z \"))\n",
    "X=[]\n",
    "for i in range(1,(3*Z)+1,1):\n",
    "    A=i\n",
    "    a5=0\n",
    "    a1=15.8\n",
    "    a2=18.3\n",
    "    a3=.714\n",
    "    a4=23.2\n",
    "\n",
    "    if (A%2==1):\n",
    "    a5=0\n",
    "    #print(\"A es impar\",a5)\n",
    "    elif (A%2==0) & (Z%2==0):\n",
    "    a5=12\n",
    "    #print(\"A y Z son par \",a5)\n",
    "    elif (A%2==0) & (Z%2==1):\n",
    "    a5=-12\n",
    "    #print(\"A es par pero Z es impar\",a5)\n",
    "    else:\n",
    "    print(\"llama a dios\")\n",
    "    # Separaré por terminos etiquetados de izquiera a derecha como Tn\n",
    "    T1= a1*A\n",
    "    T2= -a2*A**(2/3)\n",
    "    T3= -a3*(Z**2)/(A**(1/3))\n",
    "    T4= -a4*(A-2*Z)**2/A\n",
    "    T5= a5/(A**(1/2))\n",
    "    B=T1+T2+T3+T4+T5\n",
    "    X.append(B/A)\n",
    "print(\"Energía de unión por nucleón \", max(X))"
   ]
  },
  {
   "cell_type": "markdown",
   "metadata": {},
   "source": [
    "No se por qué me marcó el error de la identación pero en colab si jalaba :,c"
   ]
  },
  {
   "cell_type": "markdown",
   "metadata": {},
   "source": [
    "**d)** Finalmente, escribe una cuarta versión del programa que, en lugar de tomar $Z$ como entrada, se ejecute a través de todos los valores de $Z$ de 1 a 100 e imprima el valor más estable de $A$ para cada uno. ¿A qué valor de $Z$ se produce la energía de enlace máxima por nucleón? (La respuesta correcta, en la vida real, es $Z=28$, que corresponde al Níquel)."
   ]
  },
  {
   "cell_type": "code",
   "execution_count": null,
   "metadata": {},
   "outputs": [],
   "source": []
  },
  {
   "cell_type": "code",
   "execution_count": null,
   "metadata": {},
   "outputs": [],
   "source": []
  }
 ],
 "metadata": {
  "kernelspec": {
   "display_name": "Python 3 (ipykernel)",
   "language": "python",
   "name": "python3"
  },
  "language_info": {
   "codemirror_mode": {
    "name": "ipython",
    "version": 3
   },
   "file_extension": ".py",
   "mimetype": "text/x-python",
   "name": "python",
   "nbconvert_exporter": "python",
   "pygments_lexer": "ipython3",
   "version": "3.9.12"
  }
 },
 "nbformat": 4,
 "nbformat_minor": 4
}
